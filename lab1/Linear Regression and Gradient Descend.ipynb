{
 "cells": [
  {
   "cell_type": "markdown",
   "metadata": {},
   "source": [
    "1、读取实验数据，使用sklearn库的load_svmlight_file函数读取数据。\n",
    "2、将数据集切分为训练集和验证集，本次实验不切分测试集。使用train_test_split函数切分数据集。\n",
    "3、模型参数初始化，可以考虑全零初始化，随机初始化或者正态分布初始化。\n",
    "4、选择Loss函数及其求导，过程详见课件ppt。\n",
    "5、求得所有样本对Loss函数的梯度的平均值G。\n",
    "6、取梯度G的负方向，记为G'。\n",
    "7、更新模型参数，Wt=Wt+λG' 。λ为学习率，是人为调整的超参数。\n",
    "8、在验证集上测试并得到Loss函数值Lv。\n",
    "9、重复步骤5-8若干次，直至Lv趋于收敛，画出Lv随迭代次数的变化图。"
   ]
  },
  {
   "cell_type": "code",
   "execution_count": 9,
   "metadata": {},
   "outputs": [
    {
     "data": {
      "text/plain": [
       "('housing_scale', <http.client.HTTPMessage at 0x7fe5fa75b780>)"
      ]
     },
     "execution_count": 9,
     "metadata": {},
     "output_type": "execute_result"
    }
   ],
   "source": [
    "#下载数据\n",
    "import requests\n",
    "import urllib.request\n",
    "url=\"https://www.csie.ntu.edu.tw/~cjlin/libsvmtools/datasets/regression/housing_scale\"\n",
    "#r=requests.get(url)   #方式一：request获得数据内容，传回二进制数据，需要用Python3的BytesIO(r.content)来获取\n",
    "urllib.request.urlretrieve(url, \"housing_scale\")   #方式二：下载数据集"
   ]
  },
  {
   "cell_type": "code",
   "execution_count": 10,
   "metadata": {
    "collapsed": true
   },
   "outputs": [],
   "source": [
    "#加载数据：使用sklearn库的load_svmlight_file函数读取数据\n",
    "from sklearn.datasets import load_svmlight_file\n",
    "import numpy as np\n",
    "\n",
    "X,y=load_svmlight_file(\"housing_scale\",n_features=13)  #对应方式二\n",
    "#print type(X)\n",
    "X=X.data.reshape(X.shape)   #很重要！！！X数据格式需转换成nd.array形式\n",
    "y=np.reshape(y,(y.shape[0],1))  #很重要！！！（354，）需转换成（354,1）,否则后面出错\n",
    "#print type(X)"
   ]
  },
  {
   "cell_type": "code",
   "execution_count": 11,
   "metadata": {},
   "outputs": [
    {
     "name": "stdout",
     "output_type": "stream",
     "text": [
      "(354, 13)\n",
      "(354, 1)\n",
      "(152, 13)\n",
      "(152, 1)\n"
     ]
    }
   ],
   "source": [
    "#数据处理：使用train_test_split函数切分数据集\n",
    "from sklearn.model_selection import train_test_split\n",
    "\n",
    "X_train, X_test, y_train, y_test = train_test_split(X, y, test_size=0.3)   #切割数据集\n",
    "print(X_train.shape)\n",
    "print(y_train.shape)\n",
    "print(X_test.shape)\n",
    "print(y_test.shape)\n"
   ]
  },
  {
   "cell_type": "code",
   "execution_count": 12,
   "metadata": {
    "collapsed": true
   },
   "outputs": [],
   "source": [
    "#线性回归与梯度下降算法\n",
    "\n",
    "#超参初始化\n",
    "alpha=0.01   #alpha:学习率\n",
    "iterations=200    #iterations:迭代次数\n",
    "m, n = np.shape(X_train)\n",
    "W = np.ones([n,1])     #初始化W全为1或的n*1向量\n",
    "#print W.shape\n",
    "count=y_train.size\n",
    "#print count\n",
    "losses_train=[]\n",
    "losses_val=[]\n",
    "for ecoph in range(iterations):\n",
    "    #print X_train.shape\n",
    "    #print(type(X_train))\n",
    "    #print W.shape\n",
    "    #print y_train.shape\n",
    "    \n",
    "    hypo=np.dot(X_train.T,(np.dot(X_train,W))-y_train)\n",
    "    G=-alpha*hypo/m   #G:梯度\n",
    "    W+=G    #梯度下降\n",
    "    \n",
    "    yp_train=np.dot(X_train,W)\n",
    "    loss=np.average(((yp_train-y_train)**2)/2)\n",
    "    losses_train.append(loss)\n",
    "    \n",
    "    yp_val=np.dot(X_test,W)    #yp:预测值\n",
    "    loss_val=np.average(((yp_val-y_test)**2)/2)  #损失值\n",
    "    #print(\"ecoph:\",ecoph,\",loss:\",loss)\n",
    "    losses_val.append(loss_val)"
   ]
  },
  {
   "cell_type": "markdown",
   "metadata": {},
   "source": [
    " "
   ]
  },
  {
   "cell_type": "code",
   "execution_count": 13,
   "metadata": {},
   "outputs": [
    {
     "data": {
      "image/png": "[encoded data removed]",
      "text/plain": [
       "<matplotlib.figure.Figure at 0x7fe5f0b58160>"
      ]
     },
     "metadata": {},
     "output_type": "display_data"
    }
   ],
   "source": [
    "#画出图形\n",
    "%matplotlib inline\n",
    "import matplotlib.pyplot as plt\n",
    "plt.figure(figsize=(16,8))\n",
    "plt.plot(losses_train,color=\"red\",label=\"train loss\")\n",
    "plt.plot(losses_val,color=\"blue\",label=\"test loss\")\n",
    "plt.title(\"Linear Regression and Gradient Descend\")\n",
    "plt.legend(loc='upper right')\n",
    "plt.xlabel(\"Iterations\")\n",
    "plt.ylabel(\"Loss\")\n",
    "plt.show()"
   ]
  },
  {
   "cell_type": "code",
   "execution_count": null,
   "metadata": {
    "collapsed": true
   },
   "outputs": [],
   "source": []
  }
 ],
 "metadata": {
  "kernelspec": {
   "display_name": "Python 2",
   "language": "python",
   "name": "python2"
  },
  "language_info": {
   "codemirror_mode": {
    "name": "ipython",
    "version": 3
   },
   "file_extension": ".py",
   "mimetype": "text/x-python",
   "name": "python",
   "nbconvert_exporter": "python",
   "pygments_lexer": "ipython3",
   "version": "3.6.3"
  }
 },
 "nbformat": 4,
 "nbformat_minor": 2
}
